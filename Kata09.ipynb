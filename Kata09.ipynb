{
 "cells": [
  {
   "cell_type": "markdown",
   "metadata": {},
   "source": [
    "# Kata 09"
   ]
  },
  {
   "cell_type": "markdown",
   "metadata": {},
   "source": [
    "## Ejercicios: Uso de funciones en Python"
   ]
  },
  {
   "cell_type": "markdown",
   "metadata": {},
   "source": [
    "### Ejercicio 1: Trabajar con argumentos en funciones"
   ]
  },
  {
   "cell_type": "markdown",
   "metadata": {},
   "source": [
    "Comienza por crear una función que necesite tres lecturas de combustible y devuelva un informe y en lugar de simplemente crear el informe, la función también está calculando el promedio. Mejora la legibilidad extrayendo el cálculo promedio de la función en una nueva función para que el promedio se pueda hacer de forma independiente:"
   ]
  },
  {
   "cell_type": "code",
   "execution_count": 4,
   "metadata": {},
   "outputs": [
    {
     "name": "stdout",
     "output_type": "stream",
     "text": [
      "El promedio de los tanques es : 71.24\n"
     ]
    }
   ],
   "source": [
    "def PromedioTanques(tanque1,tanque2,tanque3):\n",
    "    return (tanque1+tanque2+tanque3)\n",
    "\n",
    "def LeerTanques(tanque1,tanque2,tanque3):    \n",
    "    return 'El promedio de los tanques es : '+ str(PromedioTanques(tanque1,tanque2,tanque3))\n",
    "\n",
    "print(LeerTanques(15.36,25.52,30.36))"
   ]
  },
  {
   "cell_type": "markdown",
   "metadata": {},
   "source": [
    "### Ejercicio 2: Trabajo con argumentos de palabra clave"
   ]
  },
  {
   "cell_type": "markdown",
   "metadata": {},
   "source": [
    "En este ejercicio, construirás un informe de cohete que requiere varias piezas de información, como el tiempo hasta el destino, el combustible a la izquierda y el nombre del destino. Comienza por crear una función que creará un informe preciso de la misión y La función es problemática porque no se puede adaptar para minutos adicionales o tanques adicionales de combustible. Hazlo más flexible permitiendo cualquier número de pasos basados en el tiempo y cualquier número de tanques. En lugar de usar *args y **kwargs, aprovecha el hecho de que puedes usar cualquier nombre que desees. Asegurate que la función sea más legible mediante el uso de nombres de variables que están asociados con las entradas, como *minutes y **fuel_reservoirs:"
   ]
  },
  {
   "cell_type": "code",
   "execution_count": 5,
   "metadata": {},
   "outputs": [
    {
     "name": "stdout",
     "output_type": "stream",
     "text": [
      "La misión SayGood con destino al Sol\n",
      "Tiene un distancia de 25000 kms\n",
      "El tiempo de vuelo es de 66040 minutos\n",
      "Los tanques disponibles son:\n",
      "tanque1\n",
      "tanque2\n",
      "tanque3\n",
      "Los litros necesarios serán  1326643\n",
      "El lanzamiento será 2021-01-01 19:25:32\n",
      "None\n"
     ]
    }
   ],
   "source": [
    "def ReporteMision(nombre,fecha,destino,distancia,*tiempo,**tanques):\n",
    "    print(f\"La misión {nombre} con destino al {destino}\")\n",
    "    print(f\"Tiene un distancia de {distancia} kms\")\n",
    "    print(f\"El tiempo de vuelo es de {sum(tiempo)} minutos\")\n",
    "    litros = 0;\n",
    "    print(f\"Los tanques disponibles son:\")\n",
    "    for tanque,capacidad in tanques.items():\n",
    "        print(tanque)\n",
    "        litros = litros + capacidad;\n",
    "    print(f\"Los litros necesarios serán  {litros}\")\n",
    "    print(f\"El lanzamiento será {fecha}\")    \n",
    "print(ReporteMision(\"SayGood\",\"2021-01-01 19:25:32\",\"Sol\",25000,20050,30560,3896,5836,5698,tanque1=1000000,tanque2=256985,tanque3=69658))"
   ]
  }
 ],
 "metadata": {
  "interpreter": {
   "hash": "ba4cdfae11a740e9195b5e7780b255cc79c8ff3633bcbea80b77c96a4d615869"
  },
  "kernelspec": {
   "display_name": "Python 3.9.10 ('env': venv)",
   "language": "python",
   "name": "python3"
  },
  "language_info": {
   "codemirror_mode": {
    "name": "ipython",
    "version": 3
   },
   "file_extension": ".py",
   "mimetype": "text/x-python",
   "name": "python",
   "nbconvert_exporter": "python",
   "pygments_lexer": "ipython3",
   "version": "3.9.10"
  },
  "orig_nbformat": 4
 },
 "nbformat": 4,
 "nbformat_minor": 2
}
