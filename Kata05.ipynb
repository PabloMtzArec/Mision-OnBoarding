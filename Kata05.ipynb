{
 "cells": [
  {
   "cell_type": "markdown",
   "metadata": {},
   "source": [
    "# Kata 05"
   ]
  },
  {
   "cell_type": "markdown",
   "metadata": {},
   "source": [
    "### Ejercicio 1: Utilizar operadores aritméticos"
   ]
  },
  {
   "cell_type": "markdown",
   "metadata": {},
   "source": [
    "Exploremos cómo podemos crear un programa que pueda calcular la distancia entre dos planetas. Comenzaremos usando dos distancias de planetas: Tierra (149.597.870 km) y Júpiter (778.547.200 km)."
   ]
  },
  {
   "cell_type": "code",
   "execution_count": 2,
   "metadata": {},
   "outputs": [
    {
     "name": "stdout",
     "output_type": "stream",
     "text": [
      "La distancia es 628949330 metros\n",
      "La distancia es 390577533 millas\n"
     ]
    }
   ],
   "source": [
    "distance_earth = 149597.870 # kms\n",
    "distance_jupyter = 778547.200 # kms\n",
    "distance = (distance_jupyter - distance_earth) * 1000\n",
    "print('La distancia es '+str(int(distance))+' metros')\n",
    "print('La distancia es '+str(int(distance*0.621))+' millas')"
   ]
  },
  {
   "cell_type": "markdown",
   "metadata": {},
   "source": [
    "### Ejercicio 2: Convierte cadenas en números y usa valores absolutos"
   ]
  },
  {
   "cell_type": "markdown",
   "metadata": {},
   "source": [
    "Usando input, agrega el código para leer la distancia del sol para cada planeta, considerando 2 planetas y convertir a número"
   ]
  },
  {
   "cell_type": "code",
   "execution_count": 3,
   "metadata": {},
   "outputs": [],
   "source": [
    "distance_planet1 = float(input('Introduzca la distancia del sol para el primer planeta en KM '))\n",
    "distance_planet2 = float(input('Introduzca la distancia desde el sol para el segundo planeta en KM '))\n"
   ]
  },
  {
   "cell_type": "markdown",
   "metadata": {},
   "source": [
    "Realizar el cálculo y convertir a valor absoluto"
   ]
  },
  {
   "cell_type": "code",
   "execution_count": 27,
   "metadata": {},
   "outputs": [
    {
     "name": "stdout",
     "output_type": "stream",
     "text": [
      "De Tierra a Júpite\n",
      "5.0 kms\n",
      "3.105 millas\n",
      "\n",
      "De Mercurio a Venus\n",
      "50300000 kms\n",
      "31236300.0 millas\n",
      "\n",
      "De Tierra a Marte\n",
      "78300000 kms\n",
      "48624300.0 millas\n",
      "\n",
      "De Júpiter a Saturno\n",
      "654900000 kms\n",
      "406692900.0 millas\n",
      "\n",
      "De Urano a Neptuno\n",
      "654900000 kms\n",
      "406692900.0 millas\n",
      "\n"
     ]
    }
   ],
   "source": [
    "def Distancias(titulo,distancia1,distancia2):\n",
    "    distance = (distancia1 - distancia2) # * 1000\n",
    "    distance_millas = distance * 0.621\n",
    "    print(titulo)\n",
    "    print(str(abs(distance))+\" kms\")\n",
    "    print(str(abs(distance_millas))+\" millas\")\n",
    "    print()\n",
    "Distancias(\"De Tierra a Júpiter\",distance_planet1,distance_planet2)\n",
    "Distancias(\"De Mercurio a Venus\",57900000,108200000)\n",
    "Distancias(\"De Tierra a Marte\",149600000,227900000)\n",
    "Distancias(\"De Júpiter a Saturno\",778600000,1433500000)\n",
    "Distancias(\"De Urano a Neptuno\",778600000,1433500000)"
   ]
  }
 ],
 "metadata": {
  "interpreter": {
   "hash": "ba4cdfae11a740e9195b5e7780b255cc79c8ff3633bcbea80b77c96a4d615869"
  },
  "kernelspec": {
   "display_name": "Python 3.9.10 ('env': venv)",
   "language": "python",
   "name": "python3"
  },
  "language_info": {
   "codemirror_mode": {
    "name": "ipython",
    "version": 3
   },
   "file_extension": ".py",
   "mimetype": "text/x-python",
   "name": "python",
   "nbconvert_exporter": "python",
   "pygments_lexer": "ipython3",
   "version": "3.9.10"
  },
  "orig_nbformat": 4
 },
 "nbformat": 4,
 "nbformat_minor": 2
}
