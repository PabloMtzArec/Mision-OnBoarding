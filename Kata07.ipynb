{
 "cells": [
  {
   "cell_type": "markdown",
   "metadata": {},
   "source": [
    "# Kata 07"
   ]
  },
  {
   "cell_type": "markdown",
   "metadata": {},
   "source": [
    "### Ejercicio 1: Creación de un bucle \"while\""
   ]
  },
  {
   "cell_type": "code",
   "execution_count": 7,
   "metadata": {},
   "outputs": [],
   "source": [
    "planeta = ''\n",
    "planetas = []\n",
    "while planeta.upper().strip() != \"DONE\":\n",
    "    if len(planeta.strip()) > 0:\n",
    "        planetas.append(planeta.upper())\n",
    "    planeta = input(\"Ingresa un planeta: \")\n"
   ]
  },
  {
   "cell_type": "markdown",
   "metadata": {},
   "source": [
    "### Ejercicio 2: Creación de un ciclo \"for\""
   ]
  },
  {
   "cell_type": "code",
   "execution_count": 8,
   "metadata": {},
   "outputs": [
    {
     "name": "stdout",
     "output_type": "stream",
     "text": [
      "MARTE\n",
      "JEUVES\n"
     ]
    }
   ],
   "source": [
    "for planeta in planetas:\n",
    "    print(planeta)"
   ]
  }
 ],
 "metadata": {
  "interpreter": {
   "hash": "ba4cdfae11a740e9195b5e7780b255cc79c8ff3633bcbea80b77c96a4d615869"
  },
  "kernelspec": {
   "display_name": "Python 3.9.10 ('env': venv)",
   "language": "python",
   "name": "python3"
  },
  "language_info": {
   "codemirror_mode": {
    "name": "ipython",
    "version": 3
   },
   "file_extension": ".py",
   "mimetype": "text/x-python",
   "name": "python",
   "nbconvert_exporter": "python",
   "pygments_lexer": "ipython3",
   "version": "3.9.10"
  },
  "orig_nbformat": 4
 },
 "nbformat": 4,
 "nbformat_minor": 2
}
