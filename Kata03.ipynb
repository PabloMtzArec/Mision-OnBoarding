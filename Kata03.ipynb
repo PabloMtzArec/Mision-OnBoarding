{
 "cells": [
  {
   "cell_type": "markdown",
   "metadata": {},
   "source": [
    "# Kata 03"
   ]
  },
  {
   "cell_type": "markdown",
   "metadata": {},
   "source": [
    "Para este ejercicio, escribirás una lógica condicional que imprima una advertencia si un asteroide se acerca a la Tierra demasiado rápido. La velocidad del asteroide varía dependiendo de lo cerca que esté del sol, y cualquier velocidad superior a 25 kilómetros por segundo (km/s) merece una advertencia.\n",
    "\n",
    "Un asteroide se acerca, y viaja a una velocidad de 49 km/s."
   ]
  },
  {
   "cell_type": "code",
   "execution_count": 56,
   "metadata": {},
   "outputs": [
    {
     "name": "stdout",
     "output_type": "stream",
     "text": [
      "El asteróide viene demasiado rápido a una velocidad 49 km/h\n",
      "El asteróide viene a una velocidad 15 km/h\n"
     ]
    }
   ],
   "source": [
    "speed = 49\n",
    "def FastAsteroid(currentSpeed):\n",
    "    if currentSpeed >= int(25):\n",
    "        print(f\"El asteróide viene demasiado rápido a una velocidad {currentSpeed} km/h\")\n",
    "    else:\n",
    "        print(f\"El asteróide viene a una velocidad {currentSpeed} km/h\")\n",
    "FastAsteroid(speed)\n",
    "FastAsteroid(15)"
   ]
  },
  {
   "cell_type": "markdown",
   "metadata": {},
   "source": [
    "Si un asteroide entra en la atmósfera de la Tierra a una velocidad mayor o igual a 20 km/s, a veces produce un rayo de luz que se puede ver desde la Tierra. Escribe la lógica condicional que usa declaraciones if, else, y elif para alertar a las personas de todo el mundo que deben buscar un asteroide en el cielo. ¡Hay uno que se dirige a la tierra ahora a una velocidad de 19 km/s!"
   ]
  },
  {
   "cell_type": "code",
   "execution_count": 69,
   "metadata": {},
   "outputs": [
    {
     "name": "stdout",
     "output_type": "stream",
     "text": [
      "Está entrando un asteróide a una velocidad 19 km/h\n",
      "Un rayo de luz podrá verse en el cielo por la entrada de un asteróide a una velocidad 20 km/h\n",
      "Un rayo de luz podrá verse en el cielo por la entrada de un asteróide a una velocidad 21 km/h\n"
     ]
    }
   ],
   "source": [
    "def LightningAlert(currentSpeed):\n",
    "    if currentSpeed > int(20):\n",
    "        print(f\"Un rayo de luz podrá verse en el cielo por la entrada de un asteróide a una velocidad {currentSpeed} km/h\")\n",
    "    elif currentSpeed == int(20):\n",
    "        print(f\"Un rayo de luz podrá verse en el cielo por la entrada de un asteróide a una velocidad {currentSpeed} km/h\")\n",
    "    else:\n",
    "        print(f\"Está entrando un asteróide a una velocidad {currentSpeed} km/h\")\n",
    "LightningAlert(19)    \n",
    "LightningAlert(20)     \n",
    "LightningAlert(21) "
   ]
  },
  {
   "cell_type": "markdown",
   "metadata": {},
   "source": [
    "Se quita el elif por devolver lo mismo y se simplifica con un mayor o igual"
   ]
  },
  {
   "cell_type": "code",
   "execution_count": 70,
   "metadata": {},
   "outputs": [
    {
     "name": "stdout",
     "output_type": "stream",
     "text": [
      "Está entrando un asteróide a una velocidad 19 km/h\n",
      "Un rayo de luz podrá verse en el cielo por la entrada de un asteróide a una velocidad 20 km/h\n",
      "Un rayo de luz podrá verse en el cielo por la entrada de un asteróide a una velocidad 21 km/h\n"
     ]
    }
   ],
   "source": [
    "def LightningAlert2(currentSpeed):\n",
    "    if currentSpeed >= int(20):\n",
    "        print(f\"Un rayo de luz podrá verse en el cielo por la entrada de un asteróide a una velocidad {currentSpeed} km/h\")\n",
    "    else:\n",
    "        print(f\"Está entrando un asteróide a una velocidad {currentSpeed} km/h\")\n",
    "LightningAlert2(19)    \n",
    "LightningAlert2(20)     \n",
    "LightningAlert2(21)"
   ]
  },
  {
   "cell_type": "markdown",
   "metadata": {},
   "source": [
    "En este ejercicio, aprenderás información más matizada sobre cuándo los asteroides representan un peligro para la Tierra, y utilizarás esa información para mejorar nuestro sistema de advertencia. Aquí está la nueva información que necesitas saber:\n",
    "\n",
    "*Los asteroides de menos de 25 metros en su dimensión más grande probablemente se quemarán a medida que entren en la atmósfera de la Tierra.\n",
    "\n",
    "Si una pieza de un asteroide que es más grande que 25 metros pero más pequeña que 1000 metros golpeara la Tierra, causaría mucho daño.\n",
    "También discutimos en el ejercicio anterior que:\n",
    "\n",
    "La velocidad del asteroide varía en función de lo cerca que esté del sol, y cualquier velocidad superior a 25 kilómetros por segundo (km/s) merece una advertencia.\n",
    "Si un asteroide entra en la atmósfera de la Tierra a una velocidad mayor o igual a 20 km/s, a veces produce un rayo de luz que se puede ver desde la Tierra.\n",
    "Usando toda esta información, escribe un programa que emita la advertencia o información correcta a la gente de la Tierra, según la"
   ]
  },
  {
   "cell_type": "code",
   "execution_count": 73,
   "metadata": {},
   "outputs": [
    {
     "name": "stdout",
     "output_type": "stream",
     "text": [
      "El asteróide viene demasiado rápido a una velocidad 25 km/h\n",
      "El asteroíde que se acerca posiblemente se desintegrará antes de llegar a tocar la tierra\n",
      "Un asteróide muy grande se acerca, el daño será más que considerable. Tamaño 25000 metros\n",
      "Un rayo de luz podrá verse en el cielo por la entrada de un asteróide a una velocidad 25 km/h\n"
     ]
    }
   ],
   "source": [
    "def AlertSizeAsteroid(currentSize):\n",
    "    if(currentSize>25 and currentSize<1000):\n",
    "        print(f\"Se acerca un asteróide que mide {currentSize} metros y causará un daño considerable se acerca\")\n",
    "    elif currentSize>=1000:\n",
    "        print(f\"Un asteróide muy grande se acerca, el daño será más que considerable. Tamaño {currentSize} metros\")\n",
    "    else:\n",
    "        print(\"El asteroíde que se acerca posiblemente se desintegrará antes de llegar a tocar la tierra\")\n",
    "def Alert(currentSpeed, currentSize):\n",
    "    FastAsteroid(currentSpeed)\n",
    "    AlertSizeAsteroid(currentSize)\n",
    "    AlertSizeAsteroid(currentSize*1000)\n",
    "    LightningAlert(currentSize)\n",
    "Alert(25,25)"
   ]
  }
 ],
 "metadata": {
  "interpreter": {
   "hash": "ba4cdfae11a740e9195b5e7780b255cc79c8ff3633bcbea80b77c96a4d615869"
  },
  "kernelspec": {
   "display_name": "Python 3.9.10 ('env': venv)",
   "language": "python",
   "name": "python3"
  },
  "language_info": {
   "codemirror_mode": {
    "name": "ipython",
    "version": 3
   },
   "file_extension": ".py",
   "mimetype": "text/x-python",
   "name": "python",
   "nbconvert_exporter": "python",
   "pygments_lexer": "ipython3",
   "version": "3.9.10"
  },
  "orig_nbformat": 4
 },
 "nbformat": 4,
 "nbformat_minor": 2
}
